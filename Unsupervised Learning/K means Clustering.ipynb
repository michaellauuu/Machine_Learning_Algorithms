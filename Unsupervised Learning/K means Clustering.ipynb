{
  "cells": [
    {
      "attachments": {},
      "cell_type": "markdown",
      "metadata": {
        "id": "9p-0XPm3fB3s"
      },
      "source": [
        "# K means clustering "
      ]
    },
    {
      "cell_type": "code",
      "execution_count": 44,
      "metadata": {
        "id": "EIi2Th67fB3w"
      },
      "outputs": [],
      "source": [
        "import numpy as np\n",
        "import matplotlib.pyplot as plt\n",
        "import random\n",
        "from collections import defaultdict"
      ]
    },
    {
      "cell_type": "markdown",
      "metadata": {
        "id": "rjD7w-dXfB3x"
      },
      "source": [
        "First create some artbitory data"
      ]
    },
    {
      "cell_type": "code",
      "execution_count": 77,
      "metadata": {
        "id": "2AOPxZaefB3x"
      },
      "outputs": [],
      "source": [
        "mean_1 = [-5, -5]\n",
        "cov_1 = [[1, 0], [0, 1]]  # diagonal covariance\n",
        "mean_2 = [5, 5]\n",
        "cov_2 = [[1, 0], [0, 1]]  # diagonal covariance \n",
        "\n",
        "C_1 = np.random.multivariate_normal(mean_1, cov_1, 50)\n",
        "C_2 = np.random.multivariate_normal(mean_2, cov_2, 50)\n",
        "X = np.vstack((C_1, C_2)) # (1000,2) all datapoints\n",
        "n = X.shape[0] # number of datapoints\n",
        "d = 2 # dimension of each data point"
      ]
    },
    {
      "cell_type": "code",
      "execution_count": 20,
      "metadata": {
        "colab": {
          "base_uri": "https://localhost:8080/",
          "height": 430
        },
        "id": "GkRU0l2DfB3y",
        "outputId": "b809d12c-4f1f-4d6f-9f2d-846abfb90e86"
      },
      "outputs": [
        {
          "data": {
            "image/png": "[encoded data removed]",
            "text/plain": [
              "<Figure size 640x480 with 1 Axes>"
            ]
          },
          "metadata": {},
          "output_type": "display_data"
        }
      ],
      "source": [
        "x_1, y_1 = C_1.T\n",
        "x_2, y_2 = C_2.T\n",
        "plt.plot(np.stack((x_1, x_2)),  np.stack((y_1, y_2)), 'x')\n",
        "plt.axis('equal')\n",
        "plt.show()"
      ]
    },
    {
      "cell_type": "markdown",
      "metadata": {
        "id": "6-gxzdmNfB3z"
      },
      "source": [
        "Lets start with kmeans++ initialization\n",
        "\n",
        "- first problem is do we consider duplicates? or points that the exact same number -> lets assume this could be true"
      ]
    },
    {
      "cell_type": "code",
      "execution_count": 52,
      "metadata": {
        "id": "NH8pyCOSfB3z"
      },
      "outputs": [],
      "source": [
        "def l2norm_squared(x, x_):\n",
        "    return np.sum(np.square(x-x_))\n",
        "\n",
        "def kmean_plus_plus(k,X):\n",
        "  '''\n",
        "  k-means++ init\n",
        "\n",
        "  @returns\n",
        "    - centers: idx for X, where the idx corrspound to clusters \n",
        "    - cluster assignment\n",
        "\n",
        "  '''\n",
        "\n",
        "\n",
        "  n = X.shape[0] # number of datapoints\n",
        "  d = 2 # dimension of each data point\n",
        "\n",
        "\n",
        "  centers = set()\n",
        "\n",
        "  # say when we have two pts with same numbers ie [1,1] and [1,1], when one is picked\n",
        "  # and when we check whether the second pt that hasnt been picked, won't think it has been picked already\n",
        "  # it also saves memory since x_i could be high dimension and storing it in a set when we have high k might be even more expensive\n",
        "  # note we dont have to store the actual x_i s, we can just store it's index\n",
        "\n",
        "  # first pick a random pt unifomrally\n",
        "  x_i = np.random.randint(low= 0, high = n-1)\n",
        "  centers.add(x_i)\n",
        "\n",
        "  k -= 1\n",
        "\n",
        "\n",
        "  while k > 0:\n",
        "      dist_all = []\n",
        "\n",
        "      # for all x not chosen\n",
        "      for i in range(n):\n",
        "          if i in centers: continue\n",
        "\n",
        "          # find closests center\n",
        "          dist = np.inf\n",
        "          closests_cluster = 0\n",
        "          for j, c_j in enumerate(centers):\n",
        "              dist_ = l2norm_squared(X[i], X[c_j] ) #X[i] current point, X[c_j] center point\n",
        "              if dist_ < dist: closests_cluster = c_j\n",
        "              dist = min(dist, dist_ )\n",
        "          \n",
        "          # append dist to closest cluster and cluster assignment\n",
        "          dist_all.append(dist)\n",
        "\n",
        "      # pick a new point weighted by probability\n",
        "      c_new = random.choices(\n",
        "      population = [i for i in range(n) if i not in centers],\n",
        "      weights= dist_all ,\n",
        "      k=1\n",
        "      )\n",
        "\n",
        "      centers.add(c_new[0])\n",
        "      k -= 1\n",
        "\n",
        "\n",
        "\n",
        "  return centers\n",
        "\n",
        "centers = kmean_plus_plus(2, X)"
      ]
    },
    {
      "cell_type": "markdown",
      "metadata": {
        "id": "nx7YP81CuiE1"
      },
      "source": [
        "Plot the centers in example"
      ]
    },
    {
      "cell_type": "code",
      "execution_count": 29,
      "metadata": {
        "colab": {
          "base_uri": "https://localhost:8080/",
          "height": 430
        },
        "id": "99SfdEdzsshY",
        "outputId": "eb33b91a-5d89-4619-ff08-ca5b3f40a779"
      },
      "outputs": [
        {
          "data": {
            "image/png": "[encoded data removed]",
            "text/plain": [
              "<Figure size 640x480 with 1 Axes>"
            ]
          },
          "metadata": {},
          "output_type": "display_data"
        }
      ],
      "source": [
        "plt.plot(np.stack((x_1, x_2)),  np.stack((y_1, y_2)), 'x')\n",
        "\n",
        "\n",
        "# get the two clusters out\n",
        "c_1 = X[list(centers)[0]]\n",
        "c_2 = X[list(centers)[1]]\n",
        "plt.scatter(c_1[0],c_1[1], color='red')\n",
        "plt.scatter(c_2[0],c_2[1], color='red')\n",
        "\n",
        "\n",
        "plt.axis('equal')\n",
        "plt.show()"
      ]
    },
    {
      "cell_type": "markdown",
      "metadata": {
        "id": "7YucHDIduoZB"
      },
      "source": [
        "# K means"
      ]
    },
    {
      "cell_type": "code",
      "execution_count": 76,
      "metadata": {
        "id": "BwANVEAffB30"
      },
      "outputs": [],
      "source": [
        "def reassign_cluster(C_mu, X):\n",
        "  '''\n",
        "  reassign data points to a cluster\n",
        "\n",
        "  @return:\n",
        "    A: dict that maps A[cluster number] = [idx in X,... ]\n",
        "  '''\n",
        "  tmp = np.ones(C_mu.shape)\n",
        "  A = defaultdict(list)\n",
        "  for i,x_i in enumerate(X):\n",
        "    dist = np.linalg.norm(C_mu - tmp*x_i, axis=1)\n",
        "    C_i = np.argmin(dist)\n",
        "    A[C_i].append(i)\n",
        "  return A\n",
        "\n",
        "def cluster_mean(A,X,d):\n",
        "  C_mu_new = []\n",
        "  for C in A:\n",
        "    cumsum = np.zeros(d)\n",
        "    for i in A[C]: cumsum += X[i]\n",
        "    C_mu_new.append(cumsum/len(A[C]))\n",
        "  return np.array(C_mu_new)\n",
        "\n",
        "def kmeans(k, X, delta = 0.1):\n",
        "  n,d = X.shape\n",
        "\n",
        "\n",
        "  centers_init_set_idx = kmean_plus_plus(k,X) # returns a set of indices into X\n",
        "\n",
        "  # !!! note now we are not referecing to cluster based on their index in X, but instead C_mu[0] is the 0th cluster center and so on by \n",
        "  # cluster 0,1,2,3 and so on\n",
        "  C_mu = np.array([ X[c] for c in list(centers_init_set_idx)]) # convert into datapoints\n",
        "  C_mu_new = np.full(C_mu.shape, np.inf) # initially filled with inf\n",
        "\n",
        "\n",
        "  # create intial assignment\n",
        "  A = reassign_cluster(C_mu, X)\n",
        "\n",
        "  \n",
        "  num_itr = 0\n",
        "  # while there is a small shift\n",
        "  while np.sum(np.linalg.norm(C_mu - C_mu_new, axis=1)) > delta:\n",
        "    # recenter\n",
        "    C_mu_recenter = cluster_mean(A,X,d)\n",
        "    # reassign\n",
        "    A = reassign_cluster(C_mu_recenter, X)\n",
        "\n",
        "    C_mu = C_mu_new\n",
        "    C_mu_new = C_mu_recenter\n",
        "    num_itr += 1\n",
        "  print(f'We ran for {num_itr} iterations!')\n",
        "  return C_mu_new\n"
      ]
    },
    {
      "cell_type": "code",
      "execution_count": 81,
      "metadata": {
        "colab": {
          "base_uri": "https://localhost:8080/"
        },
        "id": "57GK0FPFwVPz",
        "outputId": "b7a65034-321d-4500-ce45-18ca1e57f3a6"
      },
      "outputs": [
        {
          "name": "stdout",
          "output_type": "stream",
          "text": [
            "We ran for 2 iterations!\n"
          ]
        }
      ],
      "source": [
        "centers = kmeans(2, X, delta = 0.01)"
      ]
    },
    {
      "cell_type": "code",
      "execution_count": 83,
      "metadata": {
        "colab": {
          "base_uri": "https://localhost:8080/",
          "height": 430
        },
        "id": "_pd_IIFiwbrg",
        "outputId": "10b3f5d3-1ad8-4a74-f395-1510dfb26049"
      },
      "outputs": [
        {
          "data": {
            "image/png": "[encoded data removed]",
            "text/plain": [
              "<Figure size 640x480 with 1 Axes>"
            ]
          },
          "metadata": {},
          "output_type": "display_data"
        }
      ],
      "source": [
        "plt.plot(np.stack((x_1, x_2)),  np.stack((y_1, y_2)), 'x')\n",
        "\n",
        "\n",
        "# get the two clusters out?\n",
        "c_1 = centers[0]\n",
        "c_2 = centers[1]\n",
        "plt.scatter(c_1[0],c_1[1], color='red')\n",
        "plt.scatter(c_2[0],c_2[1], color='red')\n",
        "\n",
        "\n",
        "plt.axis('equal')\n",
        "plt.show()"
      ]
    },
    {
      "cell_type": "code",
      "execution_count": null,
      "metadata": {
        "id": "IFlf-kYF1xAH"
      },
      "outputs": [],
      "source": []
    }
  ],
  "metadata": {
    "colab": {
      "provenance": []
    },
    "kernelspec": {
      "display_name": "dl",
      "language": "python",
      "name": "python3"
    },
    "language_info": {
      "codemirror_mode": {
        "name": "ipython",
        "version": 3
      },
      "file_extension": ".py",
      "mimetype": "text/x-python",
      "name": "python",
      "nbconvert_exporter": "python",
      "pygments_lexer": "ipython3",
      "version": "3.9.13"
    },
    "orig_nbformat": 4
  },
  "nbformat": 4,
  "nbformat_minor": 0
}
